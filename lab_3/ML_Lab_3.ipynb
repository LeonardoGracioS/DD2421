{
  "nbformat": 4,
  "nbformat_minor": 0,
  "metadata": {
    "colab": {
      "name": "ML_Lab_3.ipynb",
      "version": "0.3.2",
      "provenance": [],
      "collapsed_sections": []
    }
  },
  "cells": [
    {
      "metadata": {
        "id": "EfcUfoXDTqQF",
        "colab_type": "code",
        "colab": {}
      },
      "cell_type": "code",
      "source": [
        "import numpy as np\n",
        "from scipy import misc\n",
        "from imp import reload\n",
        "\n",
        "import random\n",
        "from __future__ import absolute_import, division, print_function\n",
        "import numpy as np\n",
        "from numpy import genfromtxt\n",
        "import matplotlib.pyplot as plt\n",
        "import matplotlib.cm as cm\n",
        "from matplotlib.patches import Ellipse\n",
        "from matplotlib.colors import ColorConverter\n",
        "import random as rnd\n",
        "from sklearn.datasets.samples_generator import make_blobs\n",
        "from sklearn import decomposition, tree\n",
        "import seaborn as sns\n",
        "sns.set()"
      ],
      "execution_count": 0,
      "outputs": []
    },
    {
      "metadata": {
        "id": "IUTAbbB17s8_",
        "colab_type": "code",
        "colab": {}
      },
      "cell_type": "code",
      "source": [
        "\n",
        "\n",
        "def plot_cov_ellipse(cov, pos, nstd=2, ax=None, **kwargs):\n",
        "    \"\"\"\n",
        "    Plots an `nstd` sigma error ellipse based on the specified covariance\n",
        "    matrix (`cov`). Additional keyword arguments are passed on to the\n",
        "    ellipse patch artist.\n",
        "\n",
        "    Parameters\n",
        "    ----------\n",
        "        cov : The 2x2 covariance matrix to base the ellipse on\n",
        "        pos : The location of the center of the ellipse. Expects a 2-element\n",
        "            sequence of [x0, y0].\n",
        "        nstd : The radius of the ellipse in numbers of standard deviations.\n",
        "            Defaults to 2 standard deviations.\n",
        "        ax : The axis that the ellipse will be plotted on. Defaults to the\n",
        "            current axis.\n",
        "        Additional keyword arguments are pass on to the ellipse patch.\n",
        "\n",
        "    Returns\n",
        "    -------\n",
        "        A matplotlib ellipse artist\n",
        "    \"\"\"\n",
        "    def eigsorted(cov):\n",
        "        vals, vecs = np.linalg.eigh(cov)\n",
        "        order = vals.argsort()[::-1]\n",
        "        return vals[order], vecs[:,order]\n",
        "\n",
        "    if ax is None:\n",
        "        ax = plt.gca()\n",
        "\n",
        "    vals, vecs = eigsorted(cov)\n",
        "    theta = np.degrees(np.arctan2(*vecs[:,0][::-1]))\n",
        "\n",
        "    # Width and height are \"full\" widths, not radius\n",
        "    width, height = 2 * nstd * np.sqrt(vals)\n",
        "    ellip = Ellipse(xy=pos, width=width, height=height, angle=theta, **kwargs)\n",
        "    ellip.set_alpha(0.25)\n",
        "\n",
        "    ax.add_artist(ellip)\n",
        "    return ellip\n"
      ],
      "execution_count": 0,
      "outputs": []
    },
    {
      "metadata": {
        "id": "edHu07qg7vAC",
        "colab_type": "code",
        "colab": {}
      },
      "cell_type": "code",
      "source": [
        "# Splits data into training and test set, pcSplit defines the percent of\n",
        "# the data should be used as training data.\n",
        "def trteSplit(X,y,pcSplit,seed=None):\n",
        "    # Compute split indices\n",
        "    Ndata = X.shape[0]\n",
        "    Ntr = int(np.rint(Ndata*pcSplit))\n",
        "    Nte = Ndata-Ntr\n",
        "    np.random.seed(seed)    \n",
        "    idx = np.random.permutation(Ndata)\n",
        "    trIdx = idx[:Ntr]\n",
        "    teIdx = idx[Ntr:]\n",
        "    # Split data\n",
        "    xTr = X[trIdx,:]\n",
        "    yTr = y[trIdx]\n",
        "    xTe = X[teIdx,:]\n",
        "    yTe = y[teIdx]\n",
        "    return xTr,yTr,xTe,yTe,trIdx,teIdx\n"
      ],
      "execution_count": 0,
      "outputs": []
    },
    {
      "metadata": {
        "id": "bGQeKymQ7w_h",
        "colab_type": "code",
        "colab": {}
      },
      "cell_type": "code",
      "source": [
        "# Splits data into training and test set, pcSplit defines the percent of\n",
        "# the data should be used as training data. The major difference to\n",
        "# trteSplit is that we select the percent from each class individually.\n",
        "# This means that we are assured to have enough points for each class.\n",
        "def trteSplitEven(X,y,pcSplit,seed=None):\n",
        "    labels = np.unique(y)\n",
        "    xTr = np.zeros((0,X.shape[1]))\n",
        "    xTe = np.zeros((0,X.shape[1]))\n",
        "    yTe = np.zeros((0,),dtype=int)\n",
        "    yTr = np.zeros((0,),dtype=int)\n",
        "    trIdx = np.zeros((0,),dtype=int)\n",
        "    teIdx = np.zeros((0,),dtype=int)\n",
        "    np.random.seed(seed)\n",
        "    for label in labels:\n",
        "        classIdx = np.where(y==label)[0]\n",
        "        NPerClass = len(classIdx)\n",
        "        Ntr = int(np.rint(NPerClass*pcSplit))\n",
        "        idx = np.random.permutation(NPerClass)\n",
        "        trClIdx = classIdx[idx[:Ntr]]\n",
        "        teClIdx = classIdx[idx[Ntr:]]\n",
        "        trIdx = np.hstack((trIdx,trClIdx))\n",
        "        teIdx = np.hstack((teIdx,teClIdx))\n",
        "        # Split data\n",
        "        xTr = np.vstack((xTr,X[trClIdx,:]))\n",
        "        yTr = np.hstack((yTr,y[trClIdx]))\n",
        "        xTe = np.vstack((xTe,X[teClIdx,:]))\n",
        "        yTe = np.hstack((yTe,y[teClIdx]))\n",
        "\n",
        "    return xTr,yTr,xTe,yTe,trIdx,teIdx"
      ],
      "execution_count": 0,
      "outputs": []
    },
    {
      "metadata": {
        "id": "l48q8VLl70_2",
        "colab_type": "code",
        "colab": {}
      },
      "cell_type": "code",
      "source": [
        "def fetchDataset(dataset='iris'):\n",
        "    if dataset == 'iris':\n",
        "        X = genfromtxt('irisX.txt', delimiter=',')\n",
        "        y = genfromtxt('irisY.txt', delimiter=',',dtype=np.int)-1\n",
        "        pcadim = 2\n",
        "    elif dataset == 'wine':\n",
        "        X = genfromtxt('wineX.txt', delimiter=',')\n",
        "        y = genfromtxt('wineY.txt', delimiter=',',dtype=np.int)-1\n",
        "        pcadim = 0\n",
        "    elif dataset == 'olivetti':\n",
        "        X = genfromtxt('olivettifacesX.txt', delimiter=',')\n",
        "        X = X/255\n",
        "        y = genfromtxt('olivettifacesY.txt', delimiter=',',dtype=np.int)\n",
        "        pcadim = 20\n",
        "    elif dataset == 'vowel':\n",
        "        X = genfromtxt('vowelX.txt', delimiter=',')\n",
        "        y = genfromtxt('vowelY.txt', delimiter=',',dtype=np.int)\n",
        "        pcadim = 0\n",
        "    else:\n",
        "        print(\"Please specify a dataset!\")\n",
        "        X = np.zeros(0)\n",
        "        y = np.zeros(0)\n",
        "        pcadim = 0\n",
        "\n",
        "    return X,y,pcadim\n"
      ],
      "execution_count": 0,
      "outputs": []
    },
    {
      "metadata": {
        "id": "ZBtqBB1072m1",
        "colab_type": "code",
        "colab": {}
      },
      "cell_type": "code",
      "source": [
        "def genBlobs(n_samples=200,centers=5,n_features=2):\n",
        "    X, y = make_blobs(n_samples=n_samples, centers=centers, n_features=n_features,random_state=0)\n",
        "    return X,y\n"
      ],
      "execution_count": 0,
      "outputs": []
    },
    {
      "metadata": {
        "id": "jiZ0xOUj75Wc",
        "colab_type": "code",
        "colab": {}
      },
      "cell_type": "code",
      "source": [
        "# Scatter plots the two first dimension of the given data matrix X\n",
        "# and colors the points by the labels.\n",
        "def scatter2D(X,y):\n",
        "    labels = np.unique(y)\n",
        "    Ncolors = len(labels)\n",
        "    xx = np.arange(Ncolors)\n",
        "    ys = [i+xx+(i*xx)**2 for i in range(Ncolors)]\n",
        "    colors = cm.rainbow(np.linspace(0, 1, len(ys)))\n",
        "    c = 1.0\n",
        "    for label in labels:\n",
        "        classIdx = np.where(y==label)[0]\n",
        "        Xclass = X[classIdx,:]\n",
        "        plt.scatter(Xclass[:,0],Xclass[:,1],linewidths=1,s=25,color=colors[label],marker='o',alpha=0.75)\n",
        "        c += 1.\n",
        "\n",
        "    plt.show()\n"
      ],
      "execution_count": 0,
      "outputs": []
    },
    {
      "metadata": {
        "id": "IoG_B2I377zM",
        "colab_type": "code",
        "colab": {}
      },
      "cell_type": "code",
      "source": [
        "def plotGaussian(X,y,mu,sigma):\n",
        "    labels = np.unique(y)\n",
        "    Ncolors = len(labels)\n",
        "    xx = np.arange(Ncolors)\n",
        "    ys = [i+xx+(i*xx)**2 for i in range(Ncolors)]\n",
        "    colors = cm.rainbow(np.linspace(0, 1, len(ys)))\n",
        "    c = 1.0\n",
        "    for label in labels:\n",
        "        classIdx = y==label\n",
        "        Xclass = X[classIdx,:]\n",
        "        plot_cov_ellipse(sigma[label], mu[label])\n",
        "        plt.scatter(Xclass[:,0],Xclass[:,1],linewidths=1,s=25,color=colors[label],marker='o',alpha=0.75)\n",
        "        c += 1.\n",
        "\n",
        "    plt.show()"
      ],
      "execution_count": 0,
      "outputs": []
    },
    {
      "metadata": {
        "id": "JH3I-J907-Hm",
        "colab_type": "code",
        "colab": {}
      },
      "cell_type": "code",
      "source": [
        "# The function below, `testClassifier`, will be used to try out the different datasets.\n",
        "# `fetchDataset` can be provided with any of the dataset arguments `wine`, `iris`, `olivetti` and `vowel`.\n",
        "# Observe that we split the data into a **training** and a **testing** set.\n",
        "def testClassifier(classifier, dataset='iris', dim=0, split=0.7, ntrials=100):\n",
        "\n",
        "    X,y,pcadim = fetchDataset(dataset)\n",
        "\n",
        "    means = np.zeros(ntrials,);\n",
        "\n",
        "    for trial in range(ntrials):\n",
        "\n",
        "        xTr,yTr,xTe,yTe,trIdx,teIdx = trteSplitEven(X,y,split,trial)\n",
        "\n",
        "        # Do PCA replace default value if user provides it\n",
        "        if dim > 0:\n",
        "            pcadim = dim\n",
        "\n",
        "        if pcadim > 0:\n",
        "            pca = decomposition.PCA(n_components=pcadim)\n",
        "            pca.fit(xTr)\n",
        "            xTr = pca.transform(xTr)\n",
        "            xTe = pca.transform(xTe)\n",
        "\n",
        "        # Train\n",
        "        trained_classifier = classifier.trainClassifier(xTr, yTr)\n",
        "        # Predict\n",
        "        yPr = trained_classifier.classify(xTe)\n",
        "\n",
        "        # Compute classification error\n",
        "        if trial % 10 == 0:\n",
        "            print(\"Trial:\",trial,\"Accuracy\",\"%.3g\" % (100*np.mean((yPr==yTe).astype(float))) )\n",
        "\n",
        "        means[trial] = 100*np.mean((yPr==yTe).astype(float))\n",
        "\n",
        "    print(\"Final mean classification accuracy \", \"%.3g\" % (np.mean(means)), \"with standard deviation\", \"%.3g\" % (np.std(means)))\n",
        "\n"
      ],
      "execution_count": 0,
      "outputs": []
    },
    {
      "metadata": {
        "id": "kGifNq_a8Awf",
        "colab_type": "code",
        "colab": {}
      },
      "cell_type": "code",
      "source": [
        "# ## Plotting the decision boundary\n",
        "#\n",
        "# This is some code that you can use for plotting the decision boundary\n",
        "# boundary in the last part of the lab.\n",
        "def plotBoundary(classifier, dataset='iris', split=0.7):\n",
        "\n",
        "    X,y,pcadim = fetchDataset(dataset)\n",
        "    xTr,yTr,xTe,yTe,trIdx,teIdx = trteSplitEven(X,y,split,1)\n",
        "    classes = np.unique(y)\n",
        "\n",
        "    pca = decomposition.PCA(n_components=2)\n",
        "    pca.fit(xTr)\n",
        "\n",
        "    xTr = pca.transform(xTr)\n",
        "    xTe = pca.transform(xTe)\n",
        "\n",
        "    pX = np.vstack((xTr, xTe))\n",
        "    py = np.hstack((yTr, yTe))\n",
        "\n",
        "    # Train\n",
        "    trained_classifier = classifier.trainClassifier(xTr, yTr)\n",
        "\n",
        "    xRange = np.arange(np.min(pX[:,0]),np.max(pX[:,0]),np.abs(np.max(pX[:,0])-np.min(pX[:,0]))/100.0)\n",
        "    yRange = np.arange(np.min(pX[:,1]),np.max(pX[:,1]),np.abs(np.max(pX[:,1])-np.min(pX[:,1]))/100.0)\n",
        "\n",
        "    grid = np.zeros((yRange.size, xRange.size))\n",
        "\n",
        "    for (xi, xx) in enumerate(xRange):\n",
        "        for (yi, yy) in enumerate(yRange):\n",
        "            # Predict\n",
        "            grid[yi,xi] = trained_classifier.classify(np.array([[xx, yy]]))\n",
        "\n",
        "    \n",
        "    ys = [i+xx+(i*xx)**2 for i in range(len(classes))]\n",
        "    colormap = cm.rainbow(np.linspace(0, 1, len(ys)))\n",
        "\n",
        "    fig = plt.figure()\n",
        "    # plt.hold(True)\n",
        "    conv = ColorConverter()\n",
        "    for (color, c) in zip(colormap, classes):\n",
        "        try:\n",
        "            CS = plt.contour(xRange,yRange,(grid==c).astype(float),15,linewidths=0.25,colors=conv.to_rgba_array(color))\n",
        "        except ValueError:\n",
        "            pass\n",
        "        trClIdx = np.where(y[trIdx] == c)[0]\n",
        "        teClIdx = np.where(y[teIdx] == c)[0]\n",
        "        plt.scatter(xTr[trClIdx,0],xTr[trClIdx,1],marker='o',c=color,s=40,alpha=0.5, label=\"Class \"+str(c)+\" Train\")\n",
        "        plt.scatter(xTe[teClIdx,0],xTe[teClIdx,1],marker='*',c=color,s=50,alpha=0.8, label=\"Class \"+str(c)+\" Test\")\n",
        "    plt.legend(bbox_to_anchor=(1., 1), loc=2, borderaxespad=0.)\n",
        "    fig.subplots_adjust(right=0.7)\n",
        "    plt.show()"
      ],
      "execution_count": 0,
      "outputs": []
    },
    {
      "metadata": {
        "id": "v8J5fDgW8Da-",
        "colab_type": "code",
        "colab": {}
      },
      "cell_type": "code",
      "source": [
        "def visualizeOlivettiVectors(xTr, Xte):\n",
        "    N = xTr.shape[0]\n",
        "    Xte = Xte.reshape(64, 64).transpose()\n",
        "    plt.subplot(1, 2, 1)\n",
        "    plt.xticks([])\n",
        "    plt.yticks([])\n",
        "    plt.title(\"Test image\")\n",
        "    plt.imshow(Xte, cmap=plt.get_cmap('gray'))\n",
        "    for i in range(0, N):\n",
        "        plt.subplot(N, 2, 2+2*i)\n",
        "        plt.xticks([])\n",
        "        plt.yticks([])\n",
        "        plt.title(\"Matched class training image %i\" % (i+1))\n",
        "        X = xTr[i, :].reshape(64, 64).transpose()\n",
        "        plt.imshow(X, cmap=plt.get_cmap('gray'))\n",
        "    plt.show()\n"
      ],
      "execution_count": 0,
      "outputs": []
    },
    {
      "metadata": {
        "id": "I0de-e6Z7gR0",
        "colab_type": "code",
        "colab": {}
      },
      "cell_type": "code",
      "source": [
        "class DecisionTreeClassifier(object):\n",
        "    def __init__(self):\n",
        "        self.trained = False\n",
        "\n",
        "    def trainClassifier(self, Xtr, yTr, W=None):\n",
        "        rtn = DecisionTreeClassifier()\n",
        "        rtn.classifier = tree.DecisionTreeClassifier(max_depth=Xtr.shape[1]/2+1)\n",
        "        if W is None:\n",
        "            rtn.classifier.fit(Xtr, yTr)\n",
        "        else:\n",
        "            rtn.classifier.fit(Xtr, yTr, sample_weight=W.flatten())\n",
        "        rtn.trained = True\n",
        "        return rtn\n",
        "\n",
        "    def classify(self, X):\n",
        "        return self.classifier.predict(X)"
      ],
      "execution_count": 0,
      "outputs": []
    },
    {
      "metadata": {
        "id": "qEkJUUxC8m_I",
        "colab_type": "text"
      },
      "cell_type": "markdown",
      "source": [
        "## Bayes classifier functions to implement\n"
      ]
    },
    {
      "metadata": {
        "id": "GNoJEwmt8mA0",
        "colab_type": "code",
        "colab": {}
      },
      "cell_type": "code",
      "source": [
        "# ## Bayes classifier functions to implement\n",
        "# \n",
        "# The lab descriptions state what each function should do.\n",
        "\n",
        "\n",
        "# NOTE: you do not need to handle the W argument for this part!\n",
        "# in: labels - N vector of class labels\n",
        "# out: prior - C x 1 vector of class priors\n",
        "def computePrior(labels, W=None):\n",
        "    Npts = labels.shape[0]\n",
        "    if W is None:\n",
        "        W = np.ones((Npts,))/Npts\n",
        "    else:\n",
        "        assert(W.shape[0] == Npts)\n",
        "    classes = np.unique(labels)\n",
        "    Nclasses = np.size(classes)\n",
        "\n",
        "    prior = np.zeros((Nclasses,1))\n",
        "\n",
        "    # TODO: compute the values of prior for each class!\n",
        "    # ==========================\n",
        "    for i in range(Nclasses):\n",
        "      Npts_classi = labels[np.where(labels==classes[i])].shape[0]\n",
        "      prior[i] = Npts_classi / Npts\n",
        "      \n",
        "\n",
        "    # ==========================\n",
        "    return prior"
      ],
      "execution_count": 0,
      "outputs": []
    },
    {
      "metadata": {
        "id": "5S2YjItN8sT4",
        "colab_type": "code",
        "colab": {}
      },
      "cell_type": "code",
      "source": [
        "# NOTE: you do not need to handle the W argument for this part!\n",
        "# in:      X - N x d matrix of N data points\n",
        "#     labels - N vector of class labels\n",
        "# out:    mu - C x d matrix of class means (mu[i] - class i mean)\n",
        "#      sigma - C x d x d matrix of class covariances (sigma[i] - class i sigma)\n",
        "def mlParams(X, labels, W=None):\n",
        "    assert(X.shape[0]==labels.shape[0])\n",
        "    Npts,Ndims = np.shape(X)\n",
        "    classes = np.unique(labels)\n",
        "    Nclasses = np.size(classes)\n",
        "\n",
        "    if W is None:\n",
        "        W = np.ones((Npts,))/float(Npts)\n",
        "\n",
        "    mu = np.zeros((Nclasses,Ndims))\n",
        "    sigma = np.zeros((Nclasses,Ndims,Ndims))\n",
        "\n",
        "    # TODO: fill in the code to compute mu and sigma!\n",
        "    # ==========================\n",
        "    \n",
        "    for k in range(Nclasses):\n",
        "      X_classe_k = X[np.where(labels==classes[k])]\n",
        "      W_classe_k = W[np.where(labels==classes[k])]\n",
        "      \n",
        "      \n",
        "      mu[k] = np.average(X_classe_k,weights = W_classe_k, axis = 0 )\n",
        "      sigma_k_vector = np.average(np.power((X_classe_k - mu[k]), 2),weights =W_classe_k, axis=0)\n",
        "      \n",
        "      sigma[k]=np.diag(sigma_k_vector)\n",
        "\n",
        "      #sigma[k] = np.cov(X_classe_k.T ) better performance but not diagonal \n",
        "    # ==========================\n",
        "\n",
        "    return mu, sigma\n"
      ],
      "execution_count": 0,
      "outputs": []
    },
    {
      "metadata": {
        "id": "WbD1W9jglEKB",
        "colab_type": "code",
        "colab": {}
      },
      "cell_type": "code",
      "source": [
        "    from scipy.stats import multivariate_normal"
      ],
      "execution_count": 0,
      "outputs": []
    },
    {
      "metadata": {
        "id": "OptKhWV88uvl",
        "colab_type": "code",
        "colab": {}
      },
      "cell_type": "code",
      "source": [
        "# in:      X - N x d matrix of M data points\n",
        "#      prior - C x 1 matrix of class priors\n",
        "#         mu - C x d matrix of class means (mu[i] - class i mean)\n",
        "#      sigma - C x d x d matrix of class covariances (sigma[i] - class i sigma)\n",
        "# out:     h - N vector of class predictions for test points\n",
        "#def classifyBayes(X, prior, mu, sigma):\n",
        "\n",
        "#    Npts = X.shape[0]\n",
        "#    Nclasses,Ndims = np.shape(mu)\n",
        "#    logProb = np.zeros((Nclasses, Npts))\n",
        "\n",
        "    # TODO: fill in the code to compute the log posterior logProb!\n",
        "    # ==========================\n",
        "    #term_1 = -np.sum(np.log(np.sqrt(2*np.pi*sigma)))\n",
        "    #term_2 = - np.sum((X-mu)/(2*sigma))\n",
        "\n",
        "#    for i in range(Nclasses):\n",
        "#      log_Likelihood = multivariate_normal.logpdf(X, mean=mu[i], cov=sigma[i])\n",
        "#      logProb[i,:] = np.sum([log_Likelihood,np.log(prior[i])])\n",
        "    \n",
        "    # ==========================\n",
        "    \n",
        "    # one possible way of finding max a-posteriori once\n",
        "    # you have computed the log posterior\n",
        "#    h = np.argmax(logProb,axis=0)\n",
        "#    return h"
      ],
      "execution_count": 0,
      "outputs": []
    },
    {
      "metadata": {
        "id": "AgMbpxNG1LFf",
        "colab_type": "code",
        "colab": {}
      },
      "cell_type": "code",
      "source": [
        "#pQS LQ NOTRE\n",
        "\n",
        "def classifyBayes(X, prior, mu, sigma):\n",
        "\n",
        "    Npts = X.shape[0]\n",
        "    Nclasses,Ndims = np.shape(mu)\n",
        "    logProb = np.zeros((Nclasses, Npts))\n",
        "\n",
        "    # TODO: fill in the code to compute the log posterior logProb!\n",
        "    # ==========================\n",
        "    for i in range(0, Nclasses):\n",
        "        p1=-0.5*np.log(np.linalg.det(sigma[i]))\n",
        "        inve = np.diag(1.0 / np.diag(sigma[i]))\n",
        "        #p2 = -0.5 * np.diag(np.dot(np.dot((X - mu[i]), inve),np.transpose(X - mu[i])))\n",
        "        p2=-0.5*np.diag(np.dot(np.dot((X-mu[i]), inve),np.transpose(X-mu[i])))\n",
        "        p3=np.log(prior[i])\n",
        "        logProb[i,:] =p1+p2+p3\n",
        "    # ==========================\n",
        "    \n",
        "    # one possible way of finding max a-posteriori once\n",
        "    # you have computed the log posterior\n",
        "    h = np.argmax(logProb,axis=0)\n",
        "    return h\n"
      ],
      "execution_count": 0,
      "outputs": []
    },
    {
      "metadata": {
        "id": "2SH42bLD8y-e",
        "colab_type": "code",
        "colab": {}
      },
      "cell_type": "code",
      "source": [
        "# The implemented functions can now be summarized into the `BayesClassifier` class, which we will use later to test the classifier, no need to add anything else here:\n",
        "\n",
        "\n",
        "# NOTE: no need to touch this\n",
        "class BayesClassifier(object):\n",
        "    def __init__(self):\n",
        "        self.trained = False\n",
        "\n",
        "    def trainClassifier(self, X, labels, W=None):\n",
        "        rtn = BayesClassifier()\n",
        "        rtn.prior = computePrior(labels, W)\n",
        "        rtn.mu, rtn.sigma = mlParams(X, labels, W)\n",
        "        rtn.trained = True\n",
        "        return rtn\n",
        "\n",
        "    def classify(self, X):\n",
        "        return classifyBayes(X, self.prior, self.mu, self.sigma)\n",
        "\n"
      ],
      "execution_count": 0,
      "outputs": []
    },
    {
      "metadata": {
        "id": "PiDeS9UUJhyB",
        "colab_type": "code",
        "outputId": "ddd0921c-a070-41cf-d089-e834fb30776f",
        "colab": {
          "resources": {
            "http://localhost:8080/nbextensions/google.colab/files.js": {
              "data": "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",
              "ok": true,
              "headers": [
                [
                  "content-type",
                  "application/javascript"
                ]
              ],
              "status": 200,
              "status_text": "OK"
            }
          },
          "base_uri": "https://localhost:8080/",
          "height": 481
        }
      },
      "cell_type": "code",
      "source": [
        "### import datasets \n",
        "\n",
        "from google.colab import files\n",
        "\n",
        "uploaded = files.upload()\n",
        "\n",
        "for fn in uploaded.keys():\n",
        "  print('User uploaded file \"{name}\" with length {length} bytes'.format(\n",
        "      name=fn, length=len(uploaded[fn])))\n",
        "  "
      ],
      "execution_count": 0,
      "outputs": [
        {
          "output_type": "display_data",
          "data": {
            "text/plain": [
              "<IPython.core.display.HTML object>"
            ],
            "text/html": [
              "\n",
              "     <input type=\"file\" id=\"files-b00d840d-7692-4e3a-b4dc-1d40a688b4de\" name=\"files[]\" multiple disabled />\n",
              "     <output id=\"result-b00d840d-7692-4e3a-b4dc-1d40a688b4de\">\n",
              "      Upload widget is only available when the cell has been executed in the\n",
              "      current browser session. Please rerun this cell to enable.\n",
              "      </output>\n",
              "      <script src=\"/nbextensions/google.colab/files.js\"></script> "
            ]
          },
          "metadata": {
            "tags": []
          }
        },
        {
          "output_type": "stream",
          "text": [
            "Saving irisX.txt to irisX (2).txt\n",
            "Saving irisY.txt to irisY (2).txt\n",
            "Saving olivettifacesX.txt to olivettifacesX (2).txt\n",
            "Saving olivettifacesY.txt to olivettifacesY (1).txt\n",
            "Saving wineX.txt to wineX (1).txt\n",
            "Saving wineY.txt to wineY (1).txt\n",
            "Saving vowelX.txt to vowelX (1).txt\n",
            "Saving vowelY.txt to vowelY (1).txt\n",
            "User uploaded file \"irisY.txt\" with length 299 bytes\n",
            "User uploaded file \"irisX.txt\" with length 9184 bytes\n",
            "User uploaded file \"olivettifacesY.txt\" with length 1099 bytes\n",
            "User uploaded file \"olivettifacesX.txt\" with length 6192775 bytes\n",
            "User uploaded file \"wineY.txt\" with length 355 bytes\n",
            "User uploaded file \"wineX.txt\" with length 33248 bytes\n",
            "User uploaded file \"vowelY.txt\" with length 1103 bytes\n",
            "User uploaded file \"vowelX.txt\" with length 33650 bytes\n"
          ],
          "name": "stdout"
        }
      ]
    },
    {
      "metadata": {
        "id": "_hEyhiCtJntq",
        "colab_type": "code",
        "colab": {}
      },
      "cell_type": "code",
      "source": [
        "irisX = np.genfromtxt('irisX.txt', delimiter=',')\n",
        "irisY = np.genfromtxt('irisY.txt', delimiter=',')\n",
        "\n",
        "olivettifacesX = np.genfromtxt('olivettifacesX.txt', delimiter=',')\n",
        "olivettifacesY = np.genfromtxt('olivettifacesY.txt', delimiter=',')\n",
        "\n",
        "wineX = np.genfromtxt('wineX.txt', delimiter=',')\n",
        "wineY = np.genfromtxt('wineY.txt', delimiter=',')\n",
        "\n",
        "\n",
        "vowelX = np.genfromtxt('vowelX.txt', delimiter=',')\n",
        "vowelY = np.genfromtxt('vowelY.txt', delimiter=',')"
      ],
      "execution_count": 0,
      "outputs": []
    },
    {
      "metadata": {
        "id": "qFjXIQyg86-p",
        "colab_type": "code",
        "outputId": "53275c21-1584-4e7f-bb3c-49063029a433",
        "colab": {
          "base_uri": "https://localhost:8080/",
          "height": 1151
        }
      },
      "cell_type": "code",
      "source": [
        "\n",
        "# ## Test the Maximum Likelihood estimates\n",
        "# \n",
        "# Call `genBlobs` and `plotGaussian` to verify your estimates.\n",
        "\n",
        "\n",
        "X, labels = genBlobs(centers=5)\n",
        "mu, sigma = mlParams(X,labels)\n",
        "plotGaussian(X,labels,mu,sigma)\n",
        "\n",
        "\n",
        "# Call the `testClassifier` and `plotBoundary` functions for this part.\n",
        "\n",
        "print('dataset = iris')\n",
        "testClassifier(BayesClassifier(), dataset='iris', split=0.7)\n",
        "\n",
        "\n",
        "print('dataset = vowel')\n",
        "testClassifier(BayesClassifier(), dataset='vowel', split=0.7)\n",
        "\n",
        "\n",
        "print('boundary = iris')\n",
        "plotBoundary(BayesClassifier(), dataset='iris',split=0.7)\n"
      ],
      "execution_count": 0,
      "outputs": [
        {
          "output_type": "display_data",
          "data": {
            "image/png": "[encoded data removed]",
            "text/plain": [
              "<matplotlib.figure.Figure at 0x7f536db65890>"
            ]
          },
          "metadata": {
            "tags": []
          }
        },
        {
          "output_type": "stream",
          "text": [
            "dataset = iris\n",
            "Trial: 0 Accuracy 84.4\n",
            "Trial: 10 Accuracy 95.6\n",
            "Trial: 20 Accuracy 93.3\n",
            "Trial: 30 Accuracy 86.7\n",
            "Trial: 40 Accuracy 88.9\n",
            "Trial: 50 Accuracy 91.1\n",
            "Trial: 60 Accuracy 86.7\n",
            "Trial: 70 Accuracy 91.1\n",
            "Trial: 80 Accuracy 86.7\n",
            "Trial: 90 Accuracy 91.1\n",
            "Final mean classification accuracy  89 with standard deviation 4.16\n",
            "dataset = vowel\n",
            "Trial: 0 Accuracy 61\n",
            "Trial: 10 Accuracy 66.2\n",
            "Trial: 20 Accuracy 74\n",
            "Trial: 30 Accuracy 66.9\n",
            "Trial: 40 Accuracy 59.7\n",
            "Trial: 50 Accuracy 64.3\n",
            "Trial: 60 Accuracy 66.9\n",
            "Trial: 70 Accuracy 63.6\n",
            "Trial: 80 Accuracy 62.3\n",
            "Trial: 90 Accuracy 70.8\n",
            "Final mean classification accuracy  64.7 with standard deviation 4.03\n",
            "boundary = iris\n"
          ],
          "name": "stdout"
        },
        {
          "output_type": "display_data",
          "data": {
            "image/png": "[encoded data removed]",
            "text/plain": [
              "<matplotlib.figure.Figure at 0x7f536f054d90>"
            ]
          },
          "metadata": {
            "tags": []
          }
        }
      ]
    },
    {
      "metadata": {
        "id": "_N3WR8er8_cU",
        "colab_type": "text"
      },
      "cell_type": "markdown",
      "source": [
        "# ## Boosting functions to implement\n",
        " The lab descriptions state what each function should do.\n",
        "THe problem is in trainBoost"
      ]
    },
    {
      "metadata": {
        "id": "1Dqco9oG8-K7",
        "colab_type": "code",
        "colab": {}
      },
      "cell_type": "code",
      "source": [
        "# ## Boosting functions to implement\n",
        "# \n",
        "# The lab descriptions state what each function should do.\n",
        "\n",
        "\n",
        "# in: base_classifier - a classifier of the type that we will boost, e.g. BayesClassifier\n",
        "#                   X - N x d matrix of N data points\n",
        "#              labels - N vector of class labels\n",
        "#                   T - number of boosting iterations\n",
        "# out:    classifiers - (maximum) length T Python list of trained classifiers\n",
        "#              alphas - (maximum) length T Python list of vote weights\n",
        "def trainBoost(base_classifier, X, labels, T=10):\n",
        "    # these will come in handy later on\n",
        "    Npts,Ndims = np.shape(X)\n",
        "\n",
        "    classifiers = [] # append new classifiers to this list\n",
        "    alphas = [] # append the vote weight of the classifiers to this list\n",
        "\n",
        "    # The weights for the first iteration\n",
        "    wCur = np.ones((Npts,))/float(Npts)\n",
        "\n",
        "    for i_iter in range(0, T):\n",
        "        # a new classifier can be trained like this, given the current weights\n",
        "        classifiers.append(base_classifier.trainClassifier(X, labels, wCur))\n",
        "      # do classification for each point\n",
        "        vote = classifiers[-1].classify(X)\n",
        "\n",
        "        # TODO: Fill in the rest, construct the alphas etc.\n",
        "        # ==========================\n",
        "        miss_classified = 1-(1*(vote == labels))\n",
        "        error = np.inner(wCur, miss_classified)\n",
        "        alpha = 0.5*(np.log(1-error) - np.log(error))\n",
        "        alphas.append(alpha)\n",
        "\n",
        "        wCur_not_normalized = wCur*( np.exp(-alpha)*(vote == labels) + np.exp(alpha) * miss_classified)\n",
        "        wCur = wCur_not_normalized / (wCur_not_normalized.sum())\n",
        "          # alphas.append(alpha) # you will need to append the new alpha\n",
        "          # ==========================\n",
        "          #there were an indentation\n",
        "    return classifiers, alphas\n",
        "\n",
        "        "
      ],
      "execution_count": 0,
      "outputs": []
    },
    {
      "metadata": {
        "id": "rknnol5E9Fwv",
        "colab_type": "code",
        "colab": {}
      },
      "cell_type": "code",
      "source": [
        "# in:       X - N x d matrix of N data points\n",
        "# classifiers - (maximum) length T Python list of trained classifiers as above\n",
        "#      alphas - (maximum) length T Python list of vote weights\n",
        "#    Nclasses - the number of different classes\n",
        "# out:  yPred - N vector of class predictions for test points\n",
        "def classifyBoost(X, classifiers, alphas, Nclasses):\n",
        "    Npts = X.shape[0]\n",
        "    Ncomps = len(classifiers)\n",
        "    \n",
        "    \n",
        "    # if we only have one classifier, we may just classify directly\n",
        "    if Ncomps == 1:\n",
        "      return classifiers[0].classify(X)\n",
        "      \n",
        "    else:\n",
        "      votes = np.zeros((Npts,Nclasses))\n",
        "      \n",
        "        # TODO: implement classificiation when we have trained several classifiers!\n",
        "        # here we can do it by filling in the votes vector with weighted votes\n",
        "        # ==========================\n",
        "      a = np.array([alphas[i] *(classifiers[i].classify(X)) for i in range(Ncomps)])\n",
        "      votes = np.sum(a, axis=1)\n",
        "    \n",
        "        # one way to compute yPred after accumulating the votes\n",
        "      yPred = np.argmax(votes)\n",
        "    return yPred\n",
        "\n"
      ],
      "execution_count": 0,
      "outputs": []
    },
    {
      "metadata": {
        "id": "pHTO9y7s9H-W",
        "colab_type": "code",
        "colab": {}
      },
      "cell_type": "code",
      "source": [
        "\n",
        "# The implemented functions can now be summarized another classifer, the `BoostClassifier` class. This class enables boosting different types of classifiers by initializing it with the `base_classifier` argument. No need to add anything here.\n",
        "\n",
        "\n",
        "# NOTE: no need to touch this\n",
        "class BoostClassifier(object):\n",
        "    def __init__(self, base_classifier, T=10):\n",
        "        self.base_classifier = base_classifier\n",
        "        self.T = T\n",
        "        self.trained = False\n",
        "\n",
        "    def trainClassifier(self, X, labels):\n",
        "        rtn = BoostClassifier(self.base_classifier, self.T)\n",
        "        rtn.nbr_classes = np.size(np.unique(labels))\n",
        "        rtn.classifiers, rtn.alphas = trainBoost(self.base_classifier, X, labels, self.T)\n",
        "        rtn.trained = True\n",
        "        return rtn\n",
        "\n",
        "    def classify(self, X):\n",
        "        return classifyBoost(X, self.classifiers, self.alphas, self.nbr_classes)\n",
        "\n"
      ],
      "execution_count": 0,
      "outputs": []
    },
    {
      "metadata": {
        "id": "JzFeyThz9JJb",
        "colab_type": "text"
      },
      "cell_type": "markdown",
      "source": [
        "## Run some experiments  BAAD RESULTS"
      ]
    },
    {
      "metadata": {
        "id": "Slb48Fm8obeR",
        "colab_type": "code",
        "outputId": "0c8a5d1a-aa03-4b80-cd8b-47ff1dd5e112",
        "colab": {
          "base_uri": "https://localhost:8080/",
          "height": 85
        }
      },
      "cell_type": "code",
      "source": [
        "from sklearn.naive_bayes import GaussianNB\n",
        "from sklearn.ensemble import AdaBoostClassifier\n",
        "\n",
        "test = AdaBoostClassifier(GaussianNB(), n_estimators=10)\n",
        "\n",
        "\n",
        "\n",
        "xTr,yTr,xTe,yTe,trIdx,teIdx = trteSplit(irisX,irisY,0.7,seed=None)\n",
        "\n",
        "test.fit(xTr,yTr)\n",
        "X = test.predict(xTe)\n",
        "print(X)\n",
        "print(yTe)\n",
        "#test.score(X, yTe)\n"
      ],
      "execution_count": 0,
      "outputs": [
        {
          "output_type": "stream",
          "text": [
            "[2. 1. 1. 1. 3. 1. 1. 1. 3. 1. 2. 2. 3. 3. 3. 2. 3. 3. 1. 1. 2. 3. 2. 3.\n",
            " 3. 1. 3. 2. 2. 1. 3. 3. 2. 2. 1. 1. 1. 3. 3. 1. 1. 3. 1. 3. 3.]\n",
            "[2. 1. 1. 1. 2. 1. 1. 1. 3. 1. 2. 2. 3. 3. 3. 2. 3. 3. 1. 1. 2. 3. 2. 3.\n",
            " 3. 1. 3. 2. 2. 1. 3. 3. 2. 2. 1. 1. 1. 2. 3. 1. 1. 3. 1. 3. 3.]\n"
          ],
          "name": "stdout"
        }
      ]
    },
    {
      "metadata": {
        "id": "layYS56e9NNc",
        "colab_type": "code",
        "outputId": "8253c6cb-6ef3-4c97-e733-742056f83561",
        "colab": {
          "base_uri": "https://localhost:8080/",
          "height": 860
        }
      },
      "cell_type": "code",
      "source": [
        "\n",
        "# ## Run some experiments\n",
        "# \n",
        "# Call the `testClassifier` and `plotBoundary` functions for this part.\n",
        "\n",
        "\n",
        "testClassifier(BoostClassifier(BayesClassifier(), T=10), dataset='iris',split=0.7)\n",
        "\n",
        "\n",
        "\n",
        "testClassifier(BoostClassifier(BayesClassifier(), T=10), dataset='vowel',split=0.7)\n",
        "\n",
        "\n",
        "\n",
        "plotBoundary(BoostClassifier(BayesClassifier()), dataset='iris',split=0.7)"
      ],
      "execution_count": 0,
      "outputs": [
        {
          "output_type": "stream",
          "text": [
            "Trial: 0 Accuracy 33.3\n",
            "Trial: 10 Accuracy 33.3\n",
            "Trial: 20 Accuracy 33.3\n"
          ],
          "name": "stdout"
        },
        {
          "output_type": "stream",
          "text": [
            "/usr/local/lib/python2.7/dist-packages/ipykernel_launcher.py:21: RuntimeWarning: divide by zero encountered in log\n",
            "/usr/local/lib/python2.7/dist-packages/ipykernel_launcher.py:24: RuntimeWarning: invalid value encountered in multiply\n",
            "/usr/local/lib/python2.7/dist-packages/ipykernel_launcher.py:16: RuntimeWarning: invalid value encountered in multiply\n",
            "  app.launch_new_instance()\n"
          ],
          "name": "stderr"
        },
        {
          "output_type": "stream",
          "text": [
            "Trial: 30 Accuracy 33.3\n",
            "Trial: 40 Accuracy 33.3\n",
            "Trial: 50 Accuracy 33.3\n",
            "Trial: 60 Accuracy 33.3\n",
            "Trial: 70 Accuracy 33.3\n",
            "Trial: 80 Accuracy 33.3\n",
            "Trial: 90 Accuracy 33.3\n",
            "Final mean classification accuracy  33.3 with standard deviation 0\n",
            "Trial: 0 Accuracy 9.09\n",
            "Trial: 10 Accuracy 9.09\n",
            "Trial: 20 Accuracy 9.09\n",
            "Trial: 30 Accuracy 9.09\n",
            "Trial: 40 Accuracy 9.09\n",
            "Trial: 50 Accuracy 9.09\n",
            "Trial: 60 Accuracy 9.09\n",
            "Trial: 70 Accuracy 9.09\n",
            "Trial: 80 Accuracy 9.09\n",
            "Trial: 90 Accuracy 9.09\n",
            "Final mean classification accuracy  9.09 with standard deviation 1.78e-15\n"
          ],
          "name": "stdout"
        },
        {
          "output_type": "display_data",
          "data": {
            "image/png": "[encoded data removed]",
            "text/plain": [
              "<matplotlib.figure.Figure at 0x7f536ee4fdd0>"
            ]
          },
          "metadata": {
            "tags": []
          }
        }
      ]
    },
    {
      "metadata": {
        "id": "px7IQTcn9P2u",
        "colab_type": "text"
      },
      "cell_type": "markdown",
      "source": [
        "# Now repeat the steps with a decision tree classifier."
      ]
    },
    {
      "metadata": {
        "id": "bCSEiBmc9R6V",
        "colab_type": "code",
        "outputId": "e4547682-d83f-45e1-e5ae-7c4025e0d49b",
        "colab": {
          "base_uri": "https://localhost:8080/",
          "height": 1511
        }
      },
      "cell_type": "code",
      "source": [
        "# Now repeat the steps with a decision tree classifier.\n",
        "\n",
        "\n",
        "testClassifier(DecisionTreeClassifier(), dataset='iris', split=0.7)\n",
        "\n",
        "\n",
        "\n",
        "testClassifier(BoostClassifier(DecisionTreeClassifier(), T=10), dataset='iris',split=0.7)\n",
        "\n",
        "\n",
        "\n",
        "testClassifier(DecisionTreeClassifier(), dataset='vowel',split=0.7)\n",
        "\n",
        "\n",
        "\n",
        "testClassifier(BoostClassifier(DecisionTreeClassifier(), T=10), dataset='vowel',split=0.7)\n",
        "\n",
        "\n",
        "\n",
        "plotBoundary(DecisionTreeClassifier(), dataset='iris',split=0.7)\n",
        "\n",
        "\n",
        "\n",
        "plotBoundary(BoostClassifier(DecisionTreeClassifier(), T=10), dataset='iris',split=0.7)\n",
        "\n"
      ],
      "execution_count": 0,
      "outputs": [
        {
          "output_type": "stream",
          "text": [
            "Trial: 0 Accuracy 95.6\n",
            "Trial: 10 Accuracy 100\n",
            "Trial: 20 Accuracy 91.1\n",
            "Trial: 30 Accuracy 91.1\n",
            "Trial: 40 Accuracy 93.3\n",
            "Trial: 50 Accuracy 91.1\n",
            "Trial: 60 Accuracy 88.9\n",
            "Trial: 70 Accuracy 88.9\n",
            "Trial: 80 Accuracy 93.3\n",
            "Trial: 90 Accuracy 88.9\n",
            "Final mean classification accuracy  92.4 with standard deviation 3.71\n",
            "Trial: 0 Accuracy 33.3\n",
            "Trial: 10 Accuracy 33.3\n",
            "Trial: 20 Accuracy 33.3\n",
            "Trial: 30 Accuracy 33.3\n",
            "Trial: 40 Accuracy 33.3\n",
            "Trial: 50 Accuracy 33.3\n",
            "Trial: 60 Accuracy 33.3\n",
            "Trial: 70 Accuracy 33.3\n",
            "Trial: 80 Accuracy 0\n",
            "Trial: 90 Accuracy 33.3\n",
            "Final mean classification accuracy  28.7 with standard deviation 11.6\n",
            "Trial: 0 Accuracy 63.6\n",
            "Trial: 10 Accuracy 68.8\n",
            "Trial: 20 Accuracy 63.6\n",
            "Trial: 30 Accuracy 66.9\n",
            "Trial: 40 Accuracy 59.7\n",
            "Trial: 50 Accuracy 63\n",
            "Trial: 60 Accuracy 59.7\n",
            "Trial: 70 Accuracy 68.8\n",
            "Trial: 80 Accuracy 59.7\n",
            "Trial: 90 Accuracy 68.2\n",
            "Final mean classification accuracy  64.1 with standard deviation 4\n",
            "Trial: 0 Accuracy 9.09\n",
            "Trial: 10 Accuracy 9.09\n",
            "Trial: 20 Accuracy 9.09\n",
            "Trial: 30 Accuracy 9.09\n",
            "Trial: 40 Accuracy 9.09\n",
            "Trial: 50 Accuracy 9.09\n",
            "Trial: 60 Accuracy 9.09\n",
            "Trial: 70 Accuracy 9.09\n",
            "Trial: 80 Accuracy 9.09\n",
            "Trial: 90 Accuracy 9.09\n",
            "Final mean classification accuracy  9.09 with standard deviation 1.78e-15\n"
          ],
          "name": "stdout"
        },
        {
          "output_type": "display_data",
          "data": {
            "image/png": "[encoded data removed]",
            "text/plain": [
              "<matplotlib.figure.Figure at 0x7f536ede3c90>"
            ]
          },
          "metadata": {
            "tags": []
          }
        },
        {
          "output_type": "display_data",
          "data": {
            "image/png": "[encoded data removed]",
            "text/plain": [
              "<matplotlib.figure.Figure at 0x7f536ee0ac90>"
            ]
          },
          "metadata": {
            "tags": []
          }
        }
      ]
    },
    {
      "metadata": {
        "id": "QA_SVBdm9Tmv",
        "colab_type": "text"
      },
      "cell_type": "markdown",
      "source": [
        "## Bonus: Visualize faces classified using boosted decision trees"
      ]
    },
    {
      "metadata": {
        "id": "ep8I-1yJ8TNi",
        "colab_type": "code",
        "outputId": "197bc326-41e0-468d-a044-057694c74f6d",
        "colab": {
          "base_uri": "https://localhost:8080/",
          "height": 629
        }
      },
      "cell_type": "code",
      "source": [
        "\n",
        " ## Bonus: Visualize faces classified using boosted decision trees\n",
        "# \n",
        "# Note that this part of the assignment is completely voluntary! First, let's check how a boosted decision tree classifier performs on the olivetti data. Note that we need to reduce the dimension a bit using PCA, as the original dimension of the image vectors is `64 x 64 = 4096` elements.\n",
        "\n",
        "\n",
        "testClassifier(BayesClassifier(), dataset='olivetti',split=0.7, dim=20)\n",
        "\n",
        "\n",
        "\n",
        "testClassifier(BoostClassifier(DecisionTreeClassifier(), T=10), dataset='olivetti',split=0.7, dim=20)\n",
        "\n",
        "\n",
        "# You should get an accuracy around 70%. If you wish, you can compare this with using pure decision trees or a boosted bayes classifier. Not too bad, now let's try and classify a face as belonging to one of 40 persons!\n",
        "\n",
        "\n",
        "X,y,pcadim = fetchDataset('olivetti') # fetch the olivetti data\n",
        "xTr,yTr,xTe,yTe,trIdx,teIdx = trteSplitEven(X,y,0.7) # split into training and testing\n",
        "pca = decomposition.PCA(n_components=20) # use PCA to reduce the dimension to 20\n",
        "pca.fit(xTr) # use training data to fit the transform\n",
        "xTrpca = pca.transform(xTr) # apply on training data\n",
        "xTepca = pca.transform(xTe) # apply on test data\n",
        "# use our pre-defined decision tree classifier together with the implemented\n",
        "# boosting to classify data points in the training data\n",
        "classifier = BoostClassifier(DecisionTreeClassifier(), T=10).trainClassifier(xTrpca, yTr)\n",
        "yPr = classifier.classify(xTepca)\n",
        "# choose a test point to visualize\n",
        "testind = random.randint(0, xTe.shape[0]-1)\n",
        "# visualize the test point together with the training points used to train\n",
        "# the class that the test point was classified to belong to\n",
        "visualizeOlivettiVectors(xTr[yTr == yPr[testind],:], xTe[testind,:])\n"
      ],
      "execution_count": 0,
      "outputs": [
        {
          "output_type": "stream",
          "text": [
            "Trial: 0 Accuracy 88.3\n",
            "Trial: 10 Accuracy 90.8\n",
            "Trial: 20 Accuracy 85\n",
            "Trial: 30 Accuracy 89.2\n",
            "Trial: 40 Accuracy 89.2\n",
            "Trial: 50 Accuracy 84.2\n",
            "Trial: 60 Accuracy 91.7\n",
            "Trial: 70 Accuracy 82.5\n",
            "Trial: 80 Accuracy 81.7\n",
            "Trial: 90 Accuracy 86.7\n",
            "Final mean classification accuracy  87.7 with standard deviation 3.03\n",
            "Trial: 0 Accuracy 2.5\n",
            "Trial: 10 Accuracy 2.5\n",
            "Trial: 20 Accuracy 2.5\n",
            "Trial: 30 Accuracy 2.5\n",
            "Trial: 40 Accuracy 2.5\n",
            "Trial: 50 Accuracy 2.5\n",
            "Trial: 60 Accuracy 2.5\n",
            "Trial: 70 Accuracy 2.5\n",
            "Trial: 80 Accuracy 2.5\n",
            "Trial: 90 Accuracy 2.5\n",
            "Final mean classification accuracy  2.5 with standard deviation 0\n"
          ],
          "name": "stdout"
        },
        {
          "output_type": "error",
          "ename": "IndexError",
          "evalue": "ignored",
          "traceback": [
            "\u001b[0;31m\u001b[0m",
            "\u001b[0;31mIndexError\u001b[0mTraceback (most recent call last)",
            "\u001b[0;32m<ipython-input-134-e181d0952aee>\u001b[0m in \u001b[0;36m<module>\u001b[0;34m()\u001b[0m\n\u001b[1;32m     25\u001b[0m \u001b[0;31m# visualize the test point together with the training points used to train\u001b[0m\u001b[0;34m\u001b[0m\u001b[0;34m\u001b[0m\u001b[0m\n\u001b[1;32m     26\u001b[0m \u001b[0;31m# the class that the test point was classified to belong to\u001b[0m\u001b[0;34m\u001b[0m\u001b[0;34m\u001b[0m\u001b[0m\n\u001b[0;32m---> 27\u001b[0;31m \u001b[0mvisualizeOlivettiVectors\u001b[0m\u001b[0;34m(\u001b[0m\u001b[0mxTr\u001b[0m\u001b[0;34m[\u001b[0m\u001b[0myTr\u001b[0m \u001b[0;34m==\u001b[0m \u001b[0myPr\u001b[0m\u001b[0;34m[\u001b[0m\u001b[0mtestind\u001b[0m\u001b[0;34m]\u001b[0m\u001b[0;34m,\u001b[0m\u001b[0;34m:\u001b[0m\u001b[0;34m]\u001b[0m\u001b[0;34m,\u001b[0m \u001b[0mxTe\u001b[0m\u001b[0;34m[\u001b[0m\u001b[0mtestind\u001b[0m\u001b[0;34m,\u001b[0m\u001b[0;34m:\u001b[0m\u001b[0;34m]\u001b[0m\u001b[0;34m)\u001b[0m\u001b[0;34m\u001b[0m\u001b[0m\n\u001b[0m",
            "\u001b[0;31mIndexError\u001b[0m: invalid index to scalar variable."
          ]
        }
      ]
    },
    {
      "metadata": {
        "id": "pL80eGhp628g",
        "colab_type": "code",
        "colab": {}
      },
      "cell_type": "code",
      "source": [
        ""
      ],
      "execution_count": 0,
      "outputs": []
    }
  ]
}